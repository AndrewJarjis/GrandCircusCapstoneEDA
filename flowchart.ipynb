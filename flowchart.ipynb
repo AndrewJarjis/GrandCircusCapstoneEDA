{
 "cells": [
  {
   "cell_type": "code",
   "execution_count": 1,
   "id": "8b46f41d",
   "metadata": {},
   "outputs": [],
   "source": [
    "import pandas as pd\n",
    "import numpy as np\n",
    "import seaborn as sns\n"
   ]
  },
  {
   "cell_type": "markdown",
   "id": "5616c5f8",
   "metadata": {},
   "source": [
    "### Setting up File Location Variables"
   ]
  },
  {
   "cell_type": "code",
   "execution_count": 2,
   "id": "94054560",
   "metadata": {},
   "outputs": [
    {
     "name": "stdout",
     "output_type": "stream",
     "text": [
      "name.basics.tsv/data.tsv\n",
      "title.akas.tsv/data.tsv\n",
      "title.basics.tsv/data.tsv\n",
      "title.crew.tsv/data.tsv\n",
      "title.episode.tsv/data.tsv\n",
      "title.principals.tsv/data.tsv\n",
      "title.ratings.tsv/data.tsv\n"
     ]
    }
   ],
   "source": [
    "\n",
    "file1 = 'name.basics.tsv/data.tsv'\n",
    "file2 = 'title.akas.tsv/data.tsv'\n",
    "file3 = 'title.basics.tsv/data.tsv'\n",
    "file4 = 'title.crew.tsv/data.tsv'\n",
    "file5 = 'title.episode.tsv/data.tsv'\n",
    "file6 = 'title.principals.tsv/data.tsv'\n",
    "file7 = 'title.ratings.tsv/data.tsv'\n",
    "\n",
    "print(file1)\n",
    "print(file2)\n",
    "print(file3)\n",
    "print(file4)\n",
    "print(file5)\n",
    "print(file6)\n",
    "print(file7)\n"
   ]
  },
  {
   "cell_type": "markdown",
   "id": "e80f4ec6",
   "metadata": {},
   "source": [
    "## Reading in Three CSV Files"
   ]
  },
  {
   "cell_type": "code",
   "execution_count": 42,
   "id": "7d6baafc",
   "metadata": {},
   "outputs": [
    {
     "name": "stderr",
     "output_type": "stream",
     "text": [
      "C:\\Users\\andre\\AppData\\Local\\Temp\\ipykernel_2360\\1979317560.py:1: DtypeWarning: Columns (4) have mixed types. Specify dtype option on import or set low_memory=False.\n",
      "  file3_df = pd.read_csv(file3, sep='\\t')\n"
     ]
    }
   ],
   "source": [
    "file3_df = pd.read_csv(file3, sep='\\t')\n",
    "file7_df = pd.read_csv(file7, sep='\\t')\n"
   ]
  },
  {
   "cell_type": "markdown",
   "id": "15720fbe",
   "metadata": {},
   "source": [
    "## Filter Movies and Remove Missing Genre Information"
   ]
  },
  {
   "cell_type": "code",
   "execution_count": 43,
   "id": "f1acf026",
   "metadata": {},
   "outputs": [
    {
     "name": "stderr",
     "output_type": "stream",
     "text": [
      "C:\\Users\\andre\\AppData\\Local\\Temp\\ipykernel_2360\\1248447490.py:1: DtypeWarning: Columns (4) have mixed types. Specify dtype option on import or set low_memory=False.\n",
      "  file3_df = pd.read_csv(file3, sep='\\t')\n"
     ]
    }
   ],
   "source": [
    "file3_df = pd.read_csv(file3, sep='\\t')\n",
    "movies_df = file3_df[file3_df['titleType'] == 'movie']  # Filter the DataFrame to include only movies (titleType == 'movie')\n",
    "\n",
    "# Remove rows with missing genre information\n",
    "movies_df = movies_df.dropna(subset=['genres'])\n",
    "\n",
    "\n"
   ]
  },
  {
   "cell_type": "markdown",
   "id": "1983da89",
   "metadata": {},
   "source": [
    "## Count Genres in Movies DataFrame\n"
   ]
  },
  {
   "cell_type": "code",
   "execution_count": 44,
   "id": "fb3861e8",
   "metadata": {},
   "outputs": [],
   "source": [
    "# Create a dictionary to store genre counts\n",
    "genre_counts = {}\n",
    "\n",
    "# Iterate over each row and count the genres\n",
    "for genres in movies_df['genres']:\n",
    "    genre_list = genres.split(',')\n",
    "    for genre in genre_list:\n",
    "        genre_counts[genre] = genre_counts.get(genre, 0) + 1\n"
   ]
  },
  {
   "cell_type": "markdown",
   "id": "b907533a",
   "metadata": {},
   "source": [
    "## Find the Most Popular Genre\n"
   ]
  },
  {
   "cell_type": "code",
   "execution_count": 45,
   "id": "56c7a279",
   "metadata": {},
   "outputs": [
    {
     "name": "stdout",
     "output_type": "stream",
     "text": [
      "The most popular genre is Drama with a count of 234308.\n"
     ]
    }
   ],
   "source": [
    "# Find the genre with the highest count\n",
    "most_popular_genre = max(genre_counts, key=genre_counts.get)\n",
    "count = genre_counts[most_popular_genre]\n",
    "\n",
    "print(f\"The most popular genre is {most_popular_genre} with a count of {count}.\")\n"
   ]
  },
  {
   "cell_type": "markdown",
   "id": "e66369a4",
   "metadata": {},
   "source": [
    "## Reading in two CSV files"
   ]
  },
  {
   "cell_type": "code",
   "execution_count": 46,
   "id": "4e9bf5e6",
   "metadata": {},
   "outputs": [
    {
     "name": "stderr",
     "output_type": "stream",
     "text": [
      "C:\\Users\\andre\\AppData\\Local\\Temp\\ipykernel_2360\\1808434916.py:2: DtypeWarning: Columns (4) have mixed types. Specify dtype option on import or set low_memory=False.\n",
      "  basics_df = pd.read_csv(file3, sep='\\t')\n"
     ]
    }
   ],
   "source": [
    "file7_df = pd.read_csv(file7, sep='\\t')\n",
    "basics_df = pd.read_csv(file3, sep='\\t')\n",
    "ratings_df = pd.read_csv(file7, sep='\\t')"
   ]
  },
  {
   "cell_type": "markdown",
   "id": "eae23075",
   "metadata": {},
   "source": [
    "## Merge DataFrames\n"
   ]
  },
  {
   "cell_type": "code",
   "execution_count": 47,
   "id": "57cd253b",
   "metadata": {},
   "outputs": [],
   "source": [
    "# Merge basics_df and ratings_df on the 'tconst' column\n",
    "merged_df = pd.merge(basics_df, ratings_df, on='tconst')\n"
   ]
  },
  {
   "cell_type": "markdown",
   "id": "72a4b3c6",
   "metadata": {},
   "source": [
    "## Filter Movies and Remove Missing Information"
   ]
  },
  {
   "cell_type": "code",
   "execution_count": 48,
   "id": "6f0b3e9a",
   "metadata": {},
   "outputs": [],
   "source": [
    "# Filter the merged DataFrame to include only movies (titleType == 'movie')\n",
    "movies_df = merged_df[merged_df['titleType'] == 'movie']\n",
    "\n",
    "# Remove rows with missing genre or rating information\n",
    "movies_df = movies_df.dropna(subset=['genres', 'averageRating'])\n"
   ]
  },
  {
   "cell_type": "markdown",
   "id": "027295a0",
   "metadata": {},
   "source": [
    "## Calculate Genre Ratings"
   ]
  },
  {
   "cell_type": "code",
   "execution_count": 49,
   "id": "08432693",
   "metadata": {},
   "outputs": [],
   "source": [
    "# Create a dictionary to store genre ratings\n",
    "genre_ratings = {}\n",
    "\n",
    "# Iterate over each row and calculate the average rating for each genre\n",
    "for index, row in movies_df.iterrows():\n",
    "    genres = row['genres'].split(',')\n",
    "    rating = row['averageRating']\n",
    "    \n",
    "    for genre in genres:\n",
    "        if genre in genre_ratings:\n",
    "            genre_ratings[genre].append(rating)\n",
    "        else:\n",
    "            genre_ratings[genre] = [rating]\n"
   ]
  },
  {
   "cell_type": "markdown",
   "id": "a6b5ea76",
   "metadata": {},
   "source": [
    "## Calculate Average Genre Ratings and Find the Highest Rated Genre\n"
   ]
  },
  {
   "cell_type": "code",
   "execution_count": 50,
   "id": "27d0c6c9",
   "metadata": {},
   "outputs": [
    {
     "name": "stdout",
     "output_type": "stream",
     "text": [
      "The highest rated genre is Game-Show with an average rating of 8.9.\n"
     ]
    }
   ],
   "source": [
    "# Calculate the average rating for each genre\n",
    "average_ratings = {genre: sum(ratings) / len(ratings) for genre, ratings in genre_ratings.items()}\n",
    "\n",
    "# Find the genre with the highest average rating\n",
    "highest_rated_genre = max(average_ratings, key=average_ratings.get)\n",
    "average_rating = average_ratings[highest_rated_genre]\n",
    "\n",
    "print(f\"The highest rated genre is {highest_rated_genre} with an average rating of {average_rating}.\")\n"
   ]
  },
  {
   "cell_type": "markdown",
   "id": "905df887",
   "metadata": {},
   "source": [
    "## Filter Movies and Remove Missing Data\n"
   ]
  },
  {
   "cell_type": "code",
   "execution_count": 51,
   "id": "28d622dd",
   "metadata": {},
   "outputs": [],
   "source": [
    "# Filter the merged DataFrame to include only movies (titleType == 'movie')\n",
    "movies_df = merged_df[merged_df['titleType'] == 'movie']\n",
    "\n",
    "# Remove rows with missing startYear or averageRating information\n",
    "movies_df = movies_df.dropna(subset=['startYear', 'averageRating'])\n"
   ]
  },
  {
   "cell_type": "markdown",
   "id": "c4a2996f",
   "metadata": {},
   "source": [
    "## Create a new 'decade' column by rounding down the 'startYear' to the nearest 10\n"
   ]
  },
  {
   "cell_type": "code",
   "execution_count": 52,
   "id": "bcbdce06",
   "metadata": {},
   "outputs": [],
   "source": [
    "# Convert the 'startYear' column to numeric\n",
    "movies_df['startYear'] = pd.to_numeric(movies_df['startYear'], errors='coerce')\n",
    "\n",
    "# Create a new 'decade' column by rounding down the 'startYear' to the nearest 10\n",
    "movies_df['decade'] = (movies_df['startYear'] // 10) * 10\n"
   ]
  },
  {
   "cell_type": "markdown",
   "id": "9d46db02",
   "metadata": {},
   "source": [
    "## Group the DataFrame by 'decade' and calculate the average rating\n"
   ]
  },
  {
   "cell_type": "code",
   "execution_count": 53,
   "id": "57248ce1",
   "metadata": {},
   "outputs": [],
   "source": [
    "average_ratings_by_decade = movies_df.groupby('decade')['averageRating'].mean()"
   ]
  },
  {
   "cell_type": "markdown",
   "id": "11ad3830",
   "metadata": {},
   "source": [
    "## Sort the average ratings in descending order"
   ]
  },
  {
   "cell_type": "code",
   "execution_count": 54,
   "id": "a6ce99c7",
   "metadata": {},
   "outputs": [],
   "source": [
    "average_ratings_by_decade = average_ratings_by_decade.sort_values(ascending=False)"
   ]
  },
  {
   "cell_type": "markdown",
   "id": "e8ba4bba",
   "metadata": {},
   "source": [
    "## Print the average ratings by decade\n"
   ]
  },
  {
   "cell_type": "code",
   "execution_count": 55,
   "id": "4c4f1ca7",
   "metadata": {},
   "outputs": [
    {
     "name": "stdout",
     "output_type": "stream",
     "text": [
      "Average Ratings by Decade:\n",
      "decade\n",
      "2020.0    6.383182\n",
      "2010.0    6.243354\n",
      "1950.0    6.216173\n",
      "1940.0    6.209465\n",
      "2000.0    6.206385\n",
      "1960.0    6.149112\n",
      "1920.0    6.106548\n",
      "1930.0    6.093511\n",
      "1990.0    6.031436\n",
      "1980.0    6.014528\n",
      "1970.0    5.961352\n",
      "1910.0    5.795373\n",
      "1900.0    4.465060\n",
      "1890.0    4.450000\n",
      "Name: averageRating, dtype: float64\n"
     ]
    }
   ],
   "source": [
    "print(\"Average Ratings by Decade:\")\n",
    "print(average_ratings_by_decade)"
   ]
  },
  {
   "cell_type": "markdown",
   "id": "d2c4353d",
   "metadata": {},
   "source": [
    "# Next Steps\n",
    "1. When running pd.read_csv, use the file name variable instead of hard coded name.(Andrew) (Finished)\n",
    "1. Rename variables for dataframes (_df for dataframes) (Andrew) (Finished)\n",
    "1. For decades, print it out a second time by decade. (Joe)\n",
    "1. for decades, lets print out a line graph by decade.(Joe)\n",
    "1. before each block of code, add a markdown to explain what is happening.(Andrew) (Finished)\n",
    "1. average rating by actor(Joe Optional)\n",
    "1. Idenitfy the three different visualizations we need. (Andrew)\n",
    "   - Visualization containing two quantitative variables (Joe) (Line Graph-rating by decade)\n",
    "   - Visualization containing one quantitative and one categorical variable (Joe) (Bar Graph-Count by genre/Rating by genre)\n",
    "   - Visualization containing distribution information of quantitative variable(s) (Joe) (Scatter plot/Linerar Regression-rating by year?)\n",
    "1. We are only using two CSV files currently and we need to be using three\n",
    "    - Find out how to make average rating by actor work\n",
    "    - If we cannot, discuss new tables we want to compare.\n",
    "1. Power BI dashboard (Optional) (Andrew)\n"
   ]
  },
  {
   "cell_type": "code",
   "execution_count": null,
   "id": "b1c56afd",
   "metadata": {},
   "outputs": [],
   "source": []
  }
 ],
 "metadata": {
  "kernelspec": {
   "display_name": "Python 3 (ipykernel)",
   "language": "python",
   "name": "python3"
  },
  "language_info": {
   "codemirror_mode": {
    "name": "ipython",
    "version": 3
   },
   "file_extension": ".py",
   "mimetype": "text/x-python",
   "name": "python",
   "nbconvert_exporter": "python",
   "pygments_lexer": "ipython3",
   "version": "3.9.13"
  }
 },
 "nbformat": 4,
 "nbformat_minor": 5
}
